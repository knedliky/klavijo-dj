{
 "cells": [
  {
   "cell_type": "code",
   "execution_count": 1,
   "metadata": {},
   "outputs": [
    {
     "data": {
      "text/plain": [
       "True"
      ]
     },
     "execution_count": 1,
     "metadata": {},
     "output_type": "execute_result"
    }
   ],
   "source": [
    "from klaviyo_api import KlaviyoAPI\n",
    "from os import environ\n",
    "from dotenv import load_dotenv\n",
    "from openai import OpenAI\n",
    "import json\n",
    "import spotipy\n",
    "from spotipy.oauth2 import SpotifyOAuth\n",
    "import requests\n",
    "from typing import Any\n",
    "from pydantic import BaseModel, EmailStr\n",
    "\n",
    "# Load environment variables\n",
    "load_dotenv()"
   ]
  },
  {
   "cell_type": "code",
   "execution_count": 2,
   "metadata": {},
   "outputs": [],
   "source": [
    "### Clients\n",
    "openai = OpenAI()\n",
    "klaviyo = KlaviyoAPI(environ['KLAVIYO_API'], max_delay=60, max_retries=3, test_host=None)\n",
    "spotify = spotipy.Spotify(auth_manager=SpotifyOAuth(client_id=environ['SPOTIPY_CLIENT_ID'], client_secret=environ['SPOTIPY_CLIENT_SECRET'], redirect_uri='http://127.0.0.1/callback', scope='playlist-modify-public'))"
   ]
  },
  {
   "cell_type": "code",
   "execution_count": 3,
   "metadata": {},
   "outputs": [],
   "source": [
    "# Initialise Models\n",
    "class User(BaseModel):\n",
    "    id: str\n",
    "    name: str\n",
    "    email: EmailStr\n",
    "\n",
    "class Flow(BaseModel):\n",
    "    id: str\n",
    "    name: str\n",
    "    keywords: list[str]\n",
    "    sample_playlist_url: str\n",
    "\n",
    "MOCK_DB: dict[str, User] = {}\n",
    "MOCK_FLOW_DB: dict[str, Flow] = {}"
   ]
  },
  {
   "cell_type": "code",
   "execution_count": 4,
   "metadata": {},
   "outputs": [],
   "source": [
    "### Klaviyo API\n",
    "\n",
    "# Populate Flow DB\n",
    "def populate_mock_db():\n",
    "    flows = klaviyo.Flows.get_flows()[\"data\"]\n",
    "    for flow in flows:\n",
    "        MOCK_FLOW_DB[flow[\"id\"]] = {\n",
    "            \"id\": flow[\"id\"], \n",
    "            \"name\": flow[\"attributes\"][\"name\"], \n",
    "            \"keywords\": [],\n",
    "            \"sample_playlist_url\":\"\"}\n",
    "\n",
    "populate_mock_db()"
   ]
  },
  {
   "cell_type": "code",
   "execution_count": 5,
   "metadata": {},
   "outputs": [
    {
     "data": {
      "text/plain": [
       "{'STG99J': {'id': 'STG99J',\n",
       "  'name': 'New Customer',\n",
       "  'keywords': [],\n",
       "  'sample_playlist_url': ''},\n",
       " 'UxZKfm': {'id': 'UxZKfm',\n",
       "  'name': 'Create Playlist',\n",
       "  'keywords': [],\n",
       "  'sample_playlist_url': ''},\n",
       " 'VKztjN': {'id': 'VKztjN',\n",
       "  'name': 'First-time purchase',\n",
       "  'keywords': [],\n",
       "  'sample_playlist_url': ''},\n",
       " 'WQAhTH': {'id': 'WQAhTH',\n",
       "  'name': 'SMS Welcome Series with Discount',\n",
       "  'keywords': [],\n",
       "  'sample_playlist_url': ''}}"
      ]
     },
     "execution_count": 5,
     "metadata": {},
     "output_type": "execute_result"
    }
   ],
   "source": [
    "# Get Flow DB\n",
    "# Get Mock Flow DB\n",
    "def get_mock_flow_db():\n",
    "    return MOCK_FLOW_DB\n",
    "\n",
    "get_mock_flow_db()"
   ]
  },
  {
   "cell_type": "code",
   "execution_count": 6,
   "metadata": {},
   "outputs": [
    {
     "data": {
      "text/plain": [
       "'An infectious joy dances within your heart, painting laughter across your lips and unwrapping warmth in every act of kindness.'"
      ]
     },
     "execution_count": 6,
     "metadata": {},
     "output_type": "execute_result"
    }
   ],
   "source": [
    "### OpenAI API\n",
    "keywords = \"Funny, Heartwarming, Kind\"\n",
    "\n",
    "# Creating a playlist mood\n",
    "completion = openai.chat.completions.create(\n",
    "  model=\"gpt-3.5-turbo\",\n",
    "  messages=[\n",
    "    {\"role\": \"system\", \"content\": \"You are a poetic assistant, skilled in writing concise yet emotional prose. Your role is to write a single sentence. You will have a set of keywords to create your concise, descriptive sentence. Based on the keywords, describe a mood. Do not use the word mood or genre. The description will be used for a music playlist to someone you care about. Do not use a description you have already used.\"},\n",
    "    {\"role\": \"user\", \"content\": keywords}\n",
    "  ]\n",
    ")\n",
    "\n",
    "mood = completion.choices[0].message.content\n",
    "mood"
   ]
  },
  {
   "cell_type": "code",
   "execution_count": 7,
   "metadata": {},
   "outputs": [
    {
     "data": {
      "text/plain": [
       "{'playlist': [{'title': 'Happy', 'artist': 'Pharrell Williams'},\n",
       "  {'title': \"Can't Stop The Feeling!\", 'artist': 'Justin Timberlake'},\n",
       "  {'title': 'Uptown Funk', 'artist': 'Mark Ronson ft. Bruno Mars'},\n",
       "  {'title': 'I Gotta Feeling', 'artist': 'The Black Eyed Peas'},\n",
       "  {'title': 'Walking On Sunshine', 'artist': 'Katrina and The Waves'},\n",
       "  {'title': 'Best Day of My Life', 'artist': 'American Authors'},\n",
       "  {'title': 'Shake It Off', 'artist': 'Taylor Swift'},\n",
       "  {'title': \"Don't Worry Be Happy\", 'artist': 'Bobby McFerrin'},\n",
       "  {'title': 'On Top of the World', 'artist': 'Imagine Dragons'},\n",
       "  {'title': 'Good as Hell', 'artist': 'Lizzo'}]}"
      ]
     },
     "execution_count": 7,
     "metadata": {},
     "output_type": "execute_result"
    }
   ],
   "source": [
    "# Creating a JSON playlist\n",
    "response = openai.chat.completions.create(\n",
    "  model=\"gpt-4-1106-preview\",\n",
    "  response_format={\"type\":\"json_object\"},\n",
    "  messages=[\n",
    "    {\"role\": \"system\", \"content\": \"You are a helpful assistant designed to output perfectly formatted JSON. \\\n",
    "    You role is to return a list of song names and song artists. \\\n",
    "    You will have a description to create your list. \\\n",
    "    Based on the description, create a list of songs. \\\n",
    "    Do not use the word song or artist. \\\n",
    "    The list will be used for a music playlist to someone you care about. \\\n",
    "    Do not use a list you have already used.\"},\n",
    "    {\"role\": \"user\", \"content\": mood}\n",
    "  ]\n",
    ")\n",
    "\n",
    "gpt_playlist = json.loads(response.choices[0].message.content)\n",
    "gpt_playlist "
   ]
  },
  {
   "cell_type": "code",
   "execution_count": 8,
   "metadata": {},
   "outputs": [
    {
     "data": {
      "text/plain": [
       "{'playlist_title': 'Heartfelt Harmonies',\n",
       " 'tracks': [{'title': 'Happy', 'artist': 'Pharrell Williams'},\n",
       "  {'title': \"Don't Worry, Be Happy\", 'artist': 'Bobby McFerrin'},\n",
       "  {'title': 'Walking on Sunshine', 'artist': 'Katrina and the Waves'},\n",
       "  {'title': 'Lovely Day', 'artist': 'Bill Withers'},\n",
       "  {'title': 'Good as Hell', 'artist': 'Lizzo'},\n",
       "  {'title': 'I Got You (I Feel Good)', 'artist': 'James Brown'},\n",
       "  {'title': \"Can't Stop the Feeling!\", 'artist': 'Justin Timberlake'},\n",
       "  {'title': 'Uptown Funk', 'artist': 'Mark Ronson feat. Bruno Mars'},\n",
       "  {'title': 'Shake It Off', 'artist': 'Taylor Swift'},\n",
       "  {'title': 'Best Day of My Life', 'artist': 'American Authors'}]}"
      ]
     },
     "execution_count": 8,
     "metadata": {},
     "output_type": "execute_result"
    }
   ],
   "source": [
    "# Creating an improved JSON playlist\n",
    "response = openai.chat.completions.create(\n",
    "        model=\"gpt-4-1106-preview\",\n",
    "        response_format={\"type\": \"json_object\"},\n",
    "        messages=[\n",
    "            {\n",
    "                \"role\": \"system\",\n",
    "                \"content\": \"You are a helpful assistant designed to output perfectly formatted JSON. \\\n",
    "                You role is to return a list of song names and song artists, as well as a playlist title. \\\n",
    "                You will have a description to create your list. \\\n",
    "                Based on the description, create a list of songs. \\\n",
    "                Do not use the word song or artist. \\\n",
    "                The list will be used for a music playlist to someone you care about. \\\n",
    "                Do not use a list you have already used. \\\n",
    "                There should be a key for the playlist_title and tracks. \\\n",
    "                Tracks should be a list of song titles and artist.\",\n",
    "            },\n",
    "            {\n",
    "                \"role\": \"assistant\",\n",
    "                \"content\": \"Are you sure that it is valid? Make sure there is a key for playlist_title and tracks. \\\n",
    "                tracks is a list of song and artist. \\\n",
    "                It should look like this: {\\\"playlist_title\\\": \\\"My Playlist\\\", \\\"tracks\\\": [{\\\"song\\\": \\\"Song Name\\\", \\\"artist\\\": \\\"Artist Name\\\"}, {\\\"song\\\": \\\"Song Name\\\", \\\"artist\\\": \\\"Artist Name\\\"}]}\",\n",
    "            },\n",
    "            {\n",
    "                \"role\": \"user\",\n",
    "                \"content\": mood,\n",
    "            },\n",
    "        ],\n",
    "    )\n",
    "\n",
    "gpt_playlist = json.loads(response.choices[0].message.content)\n",
    "gpt_playlist"
   ]
  },
  {
   "cell_type": "code",
   "execution_count": 11,
   "metadata": {},
   "outputs": [
    {
     "name": "stdout",
     "output_type": "stream",
     "text": [
      "Heartfelt Harmonies An infectious joy dances within your heart, painting laughter across your lips and unwrapping warmth in every act of kindness. https://open.spotify.com/playlist/12Mlp5EmXExVBjcC7bgEbG\n"
     ]
    }
   ],
   "source": [
    "### Spotify API\n",
    "\n",
    "# Create public playlist to populate\n",
    "def create_playlist(user:str, title:str, description:str) -> dict:\n",
    "    return spotify.user_playlist_create(user, title, description=description)\n",
    "\n",
    "# Search and add tracks to playlist\n",
    "def add_track_to_playlist(track:dict, playlist:dict):\n",
    "    # Search for most similar track and artist\n",
    "    artist = track['artist']\n",
    "    title = track['title']\n",
    "    spotify_track = spotify.search(q=f'artist:{artist} track:{title}', limit=1, type='track')\n",
    "        \n",
    "    # Add track to playlist\n",
    "    track_id = spotify_track['tracks']['items'][0]['id']\n",
    "    spotify.user_playlist_add_tracks(user, playlist['id'], [track_id]) \n",
    "\n",
    "# Create playlist\n",
    "user = environ.get('SPOTIFY_USER')\n",
    "title = gpt_playlist['playlist_title']\n",
    "description = mood\n",
    "\n",
    "spotify_playlist = create_playlist(user, title, description)\n",
    "\n",
    "# Search for track with closest relevance\n",
    "for song in gpt_playlist['tracks']:\n",
    "    add_track_to_playlist(song, spotify_playlist)\n",
    "\n",
    "# Finally, get playlist link\n",
    "playlist_url = spotify_playlist['external_urls']['spotify']\n",
    "playlist_description = spotify_playlist['description']\n",
    "playlist_title = spotify_playlist['name']\n",
    "\n",
    "print(playlist_title, playlist_description, playlist_url)"
   ]
  },
  {
   "cell_type": "code",
   "execution_count": null,
   "metadata": {},
   "outputs": [],
   "source": [
    "### Klaviyo API\n",
    "\n",
    "# Place an Order Event to trigger a First Purchased Flow\n",
    "event_json = {\n",
    "    \"data\": {\n",
    "        \"type\": \"event\",\n",
    "        \"attributes\": {\n",
    "            \"properties\": {\"Type\": \"Election\", \"amount\": 500.00, \"Category\": \"Annual\"},\n",
    "            \"metric\": {\n",
    "                \"data\": {\"type\": \"metric\", \"attributes\": {\"name\": \"Placed Order\"}}\n",
    "            },\n",
    "            \"profile\": {\n",
    "                \"data\": {\n",
    "                    \"type\": \"profile\",\n",
    "                    \"attributes\": {\"email\": \"purple_cat@klaviyo-demo.com\"},\n",
    "                }\n",
    "            },\n",
    "        },\n",
    "    }\n",
    "}\n",
    "\n",
    "url = \"https://a.klaviyo.com/client/events/?company_id=UCR95t\"\n",
    "headers = {\n",
    "    \"accept\": \"application/json\",\n",
    "    \"content-type\": \"application/json\",\n",
    "    \"revision\": \"2023-12-15\",\n",
    "}\n",
    "response = requests.post(url, headers=headers, json=event_json)\n",
    "response.status_code"
   ]
  },
  {
   "cell_type": "code",
   "execution_count": null,
   "metadata": {},
   "outputs": [],
   "source": [
    "### Create an Event to trigger an Email Flow\n",
    "event_json = {\n",
    "    \"data\": {\n",
    "        \"type\": \"event\",\n",
    "        \"attributes\": {\n",
    "            \"properties\": {\"title\": playlist_title, \"url\": playlist_url, \"description\": playlist_description},\n",
    "            \"metric\": {\n",
    "                \"data\": {\"type\": \"metric\", \"attributes\": {\"name\": \"Playlist Created\"}}\n",
    "            },\n",
    "            \"profile\": {\n",
    "                \"data\": {\n",
    "                \"type\":\"profile\",\n",
    "                \"attributes\": {\"email\": \"simon.karumbi@gmail.com\"},\n",
    "                }\n",
    "            }\n",
    "        },\n",
    "    }\n",
    "}\n",
    "\n",
    "url = \"https://a.klaviyo.com/client/events/?company_id=UCR95t\"\n",
    "headers = {\n",
    "    \"accept\": \"application/json\",\n",
    "    \"content-type\": \"application/json\",\n",
    "    \"revision\": \"2023-12-15\",\n",
    "}\n",
    "response = requests.post(url, headers=headers, json=event_json)\n",
    "response.status_code"
   ]
  },
  {
   "cell_type": "code",
   "execution_count": null,
   "metadata": {},
   "outputs": [],
   "source": [
    "# Klaviyo Webhook\n",
    "url = f\"{environ['NGROK_URL']}/webhooks/klaviyo\"\n",
    "event_json = {\n",
    "    \"flow_id\": \"VKztjN\",\n",
    "    \"email\": \"simon.karumbi@gmail.com\"\n",
    "}\n",
    "requests.post(url, json=event_json)\n",
    "\n",
    "### Webserver\n",
    "base_url = 'http://127.0.0.1:8000'\n",
    "event_json = {\n",
    "    \"flow_id\": \"VKztjN\",\n",
    "    \"email\": \"simon.karumbi@gmail.com\"}\n",
    "\n",
    "\n",
    "requests.post(f\"{base_url}/webhooks/klaviyo\", json=event_json)"
   ]
  },
  {
   "cell_type": "code",
   "execution_count": null,
   "metadata": {},
   "outputs": [],
   "source": [
    "FLOW_PLAYLIST_DB = {}\n",
    "FLOW_PLAYLIST_DB['STG99J'] = {'id': 'STG99J', 'name': 'New Customer', 'keywords': [], 'sample_playlist_url': '', 'active': False}"
   ]
  },
  {
   "cell_type": "code",
   "execution_count": null,
   "metadata": {},
   "outputs": [],
   "source": [
    "# Insert into Flow Playlist Database\n",
    "def insert_db(id: str, keywords: list[str], sample_playlist_url: str):\n",
    "    if id in FLOW_PLAYLIST_DB:\n",
    "        FLOW_PLAYLIST_DB[id].update(\n",
    "            {\n",
    "                \"id\": id,\n",
    "                \"keywords\": keywords,\n",
    "                \"sample_playlist_url\": sample_playlist_url,\n",
    "                \"active\": True,\n",
    "            }\n",
    "        )\n",
    "        print(f'updated {FLOW_PLAYLIST_DB[id]}!')\n",
    "    return FLOW_PLAYLIST_DB"
   ]
  },
  {
   "cell_type": "code",
   "execution_count": null,
   "metadata": {},
   "outputs": [],
   "source": []
  }
 ],
 "metadata": {
  "kernelspec": {
   "display_name": "klaviyo-demo-bY5LOPKX",
   "language": "python",
   "name": "python3"
  },
  "language_info": {
   "codemirror_mode": {
    "name": "ipython",
    "version": 3
   },
   "file_extension": ".py",
   "mimetype": "text/x-python",
   "name": "python",
   "nbconvert_exporter": "python",
   "pygments_lexer": "ipython3",
   "version": "3.11.5"
  },
  "orig_nbformat": 4
 },
 "nbformat": 4,
 "nbformat_minor": 2
}
